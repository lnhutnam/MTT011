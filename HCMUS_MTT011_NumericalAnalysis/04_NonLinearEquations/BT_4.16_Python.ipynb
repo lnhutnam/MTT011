{
 "cells": [
  {
   "cell_type": "markdown",
   "metadata": {},
   "source": [
    "**BT 4.16**\n",
    "\n",
    "Dùng phương pháp lặp Newton tìm một nghiệm (với sai số tuyệt đối tối đa là $10^−4$) gần điểm $(0.5, 1.0, 0.0)$ của hệ phi tuyến\n",
    "\n",
    "$$\n",
    "2x^2 - x + y^2 - z = 0\n",
    "$$\n",
    "\n",
    "$$\n",
    "32x^2 - y^2 - 20z = 0\n",
    "$$\n",
    "\n",
    "$$\n",
    "y^2 - 14xz = 0\n",
    "$$"
   ]
  },
  {
   "cell_type": "code",
   "execution_count": 1,
   "metadata": {},
   "outputs": [],
   "source": [
    "import numpy as np\n",
    "import matplotlib.pyplot as plt"
   ]
  },
  {
   "cell_type": "code",
   "execution_count": null,
   "metadata": {},
   "outputs": [],
   "source": [
    "def f(x):\n",
    "    return np.array([[x[0,0] + 5*x[1,0]**2 - x[1,0]**3 - 2*x[1,0] - 13],[x[0,0] + x[1,0]**2 + x[1,0]**3-14*x[1,0] - 29]]) "
   ]
  },
  {
   "cell_type": "code",
   "execution_count": null,
   "metadata": {},
   "outputs": [],
   "source": [
    "def df(x):\n",
    "    return np.array([[1, 10*x[1,0] - 3*x[1,0]**2 - 2],[1, 2*x[1,0] + 3*x[1,0]**2 - 14]])"
   ]
  },
  {
   "cell_type": "code",
   "execution_count": null,
   "metadata": {},
   "outputs": [],
   "source": [
    "def g(x):\n",
    "    return np.array([[2*x[0,0] + 3*x[1,0] + 4*x[1,0]**2 - 5*x[1,0]**3 + 16],[-x[0,0] - 2*x[1,0] + 3*x[1,0]**2 - 7*x[1,0]**3 + 49]])"
   ]
  },
  {
   "cell_type": "code",
   "execution_count": null,
   "metadata": {},
   "outputs": [],
   "source": [
    "def dg(x):\n",
    "    return np.array([[2, 3 - 8*x[1,0] - 15*x[1,0]**2],[-1, -2 + 6*x[1,0] - 21*x[1,0]**2]])"
   ]
  }
 ],
 "metadata": {
  "kernelspec": {
   "display_name": "pytorch",
   "language": "python",
   "name": "python3"
  },
  "language_info": {
   "codemirror_mode": {
    "name": "ipython",
    "version": 3
   },
   "file_extension": ".py",
   "mimetype": "text/x-python",
   "name": "python",
   "nbconvert_exporter": "python",
   "pygments_lexer": "ipython3",
   "version": "3.9.18"
  }
 },
 "nbformat": 4,
 "nbformat_minor": 2
}
